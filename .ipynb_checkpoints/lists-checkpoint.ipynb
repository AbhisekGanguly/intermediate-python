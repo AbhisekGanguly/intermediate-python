{
 "cells": [
  {
   "cell_type": "markdown",
   "id": "1a7278b0-1163-412d-8db7-56e584f1c8da",
   "metadata": {},
   "source": [
    "## This is a python notebook on lists"
   ]
  },
  {
   "cell_type": "code",
   "execution_count": 1,
   "id": "1c0222f6-2a9f-45af-bb1a-ca5b5262d6ca",
   "metadata": {},
   "outputs": [],
   "source": [
    "#declaring a list\n",
    "myList = [\"banana\",\"cherry\",\"apple\",\"kiwi\",\"melon\"]"
   ]
  },
  {
   "cell_type": "markdown",
   "id": "a978b220-417c-4dfe-9c6d-13f08bce2881",
   "metadata": {},
   "source": [
    "Printing list is just typing the name of the list to see the elements present inside the list."
   ]
  },
  {
   "cell_type": "code",
   "execution_count": 2,
   "id": "8c0b41ce-176c-4388-9cf5-97736c84b43a",
   "metadata": {},
   "outputs": [
    {
     "data": {
      "text/plain": [
       "['banana', 'cherry', 'apple', 'kiwi', 'melon']"
      ]
     },
     "execution_count": 2,
     "metadata": {},
     "output_type": "execute_result"
    }
   ],
   "source": [
    "myList"
   ]
  },
  {
   "cell_type": "markdown",
   "id": "d4fc2e51-6b06-4074-ab9a-fb729285332d",
   "metadata": {},
   "source": [
    "The list works with indexing each elements in it by starting the numbering from 0"
   ]
  },
  {
   "cell_type": "code",
   "execution_count": 3,
   "id": "d2f2b1c3-8c41-4309-b99e-9d54a8847413",
   "metadata": {},
   "outputs": [
    {
     "data": {
      "text/plain": [
       "'banana'"
      ]
     },
     "execution_count": 3,
     "metadata": {},
     "output_type": "execute_result"
    }
   ],
   "source": [
    "myList[0] #first element in the list"
   ]
  },
  {
   "cell_type": "code",
   "execution_count": 5,
   "id": "3c20e48b-561a-4bcd-83b8-8dba16202442",
   "metadata": {},
   "outputs": [
    {
     "data": {
      "text/plain": [
       "'melon'"
      ]
     },
     "execution_count": 5,
     "metadata": {},
     "output_type": "execute_result"
    }
   ],
   "source": [
    "myList[4] #last element of the list"
   ]
  },
  {
   "cell_type": "markdown",
   "id": "f26a75c6-c55e-4ca6-81ac-b37b9b11c975",
   "metadata": {},
   "source": [
    "If the indexing is done in negetive numbers, it counts from the last"
   ]
  },
  {
   "cell_type": "code",
   "execution_count": 7,
   "id": "1367226a-255f-4e21-8e2a-0f68182ec20d",
   "metadata": {},
   "outputs": [
    {
     "data": {
      "text/plain": [
       "'melon'"
      ]
     },
     "execution_count": 7,
     "metadata": {},
     "output_type": "execute_result"
    }
   ],
   "source": [
    "myList[-1] #last item"
   ]
  },
  {
   "cell_type": "code",
   "execution_count": 8,
   "id": "cc69bb92-9e4e-4bf9-9044-6486674aea8b",
   "metadata": {},
   "outputs": [
    {
     "data": {
      "text/plain": [
       "'kiwi'"
      ]
     },
     "execution_count": 8,
     "metadata": {},
     "output_type": "execute_result"
    }
   ],
   "source": [
    "myList[-2] #2nd last item"
   ]
  },
  {
   "cell_type": "markdown",
   "id": "fad97048-34c5-4b8b-b00b-a77d1fbc3564",
   "metadata": {},
   "source": [
    "For iterating through the list, you can use a for loop"
   ]
  },
  {
   "cell_type": "code",
   "execution_count": 9,
   "id": "30db0a60-25ce-4d27-9b4a-98d69db56c55",
   "metadata": {},
   "outputs": [
    {
     "name": "stdout",
     "output_type": "stream",
     "text": [
      "banana\n",
      "cherry\n",
      "apple\n",
      "kiwi\n",
      "melon\n"
     ]
    }
   ],
   "source": [
    "for i in myList:\n",
    "    print(i)"
   ]
  },
  {
   "cell_type": "markdown",
   "id": "86a36f1e-81ec-4426-91c9-15ff6ca3d69e",
   "metadata": {},
   "source": [
    "To check if something is inside the list, you can simply use the `in` operator"
   ]
  },
  {
   "cell_type": "code",
   "execution_count": 10,
   "id": "753f3179-9459-4bc2-89e6-cad24bf3b122",
   "metadata": {},
   "outputs": [
    {
     "data": {
      "text/plain": [
       "True"
      ]
     },
     "execution_count": 10,
     "metadata": {},
     "output_type": "execute_result"
    }
   ],
   "source": [
    "'banana' in myList"
   ]
  },
  {
   "cell_type": "markdown",
   "id": "863c8760-ba59-44d6-b1a3-badce65b92de",
   "metadata": {},
   "source": [
    "It's however to be kept in mind that this is a case sensitive scenario"
   ]
  },
  {
   "cell_type": "code",
   "execution_count": 12,
   "id": "c3214899-544b-4eb2-a477-844b8a24ce7f",
   "metadata": {},
   "outputs": [
    {
     "data": {
      "text/plain": [
       "False"
      ]
     },
     "execution_count": 12,
     "metadata": {},
     "output_type": "execute_result"
    }
   ],
   "source": [
    "'Melon' in myList #case sensitive"
   ]
  },
  {
   "cell_type": "code",
   "execution_count": 13,
   "id": "5512a55c-e3ef-451d-b00f-83c1a1cfd37a",
   "metadata": {},
   "outputs": [
    {
     "data": {
      "text/plain": [
       "True"
      ]
     },
     "execution_count": 13,
     "metadata": {},
     "output_type": "execute_result"
    }
   ],
   "source": [
    "'melon' in myList"
   ]
  },
  {
   "cell_type": "markdown",
   "id": "62a1d6b0-1097-413a-998a-6559307ce699",
   "metadata": {},
   "source": [
    "To check the number of elements inside the list"
   ]
  },
  {
   "cell_type": "code",
   "execution_count": 14,
   "id": "1f0f17f5-172c-4a19-9adb-b14b660d1759",
   "metadata": {},
   "outputs": [
    {
     "data": {
      "text/plain": [
       "5"
      ]
     },
     "execution_count": 14,
     "metadata": {},
     "output_type": "execute_result"
    }
   ],
   "source": [
    "#using len() function\n",
    "len(myList)"
   ]
  },
  {
   "cell_type": "code",
   "execution_count": null,
   "id": "53f36edb-dff4-40f6-b1bc-358f8d7c5403",
   "metadata": {},
   "outputs": [],
   "source": []
  }
 ],
 "metadata": {
  "kernelspec": {
   "display_name": "Python 3 (ipykernel)",
   "language": "python",
   "name": "python3"
  },
  "language_info": {
   "codemirror_mode": {
    "name": "ipython",
    "version": 3
   },
   "file_extension": ".py",
   "mimetype": "text/x-python",
   "name": "python",
   "nbconvert_exporter": "python",
   "pygments_lexer": "ipython3",
   "version": "3.9.5"
  }
 },
 "nbformat": 4,
 "nbformat_minor": 5
}
